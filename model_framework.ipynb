{
 "cells": [
  {
   "cell_type": "code",
   "execution_count": 57,
   "id": "30dd95a6",
   "metadata": {},
   "outputs": [],
   "source": [
    "import matplotlib.pyplot as plt\n",
    "import os\n",
    "import pandas as pd\n",
    "from sklearn.model_selection import train_test_split\n",
    "import torch\n",
    "from torch import nn\n",
    "from torch.utils.data import DataLoader, Dataset \n",
    "from transformers import AdamW, BertModel, BertTokenizer, get_linear_schedule_with_warmup"
   ]
  },
  {
   "cell_type": "code",
   "execution_count": 58,
   "id": "f67a9dbe",
   "metadata": {},
   "outputs": [],
   "source": [
    "BATCH_SIZE = 1\n",
    "CATEGORY = \"polarity\"\n",
    "EPOCHS = 5\n",
    "MAX_LENGTH = 125\n",
    "MODEL_TAG = \"bert-base-uncased\""
   ]
  },
  {
   "cell_type": "markdown",
   "id": "d707fa6d",
   "metadata": {},
   "source": [
    "### Exploratory data analysis"
   ]
  },
  {
   "cell_type": "code",
   "execution_count": 59,
   "id": "a69ae275",
   "metadata": {},
   "outputs": [
    {
     "data": {
      "text/html": [
       "<div>\n",
       "<style scoped>\n",
       "    .dataframe tbody tr th:only-of-type {\n",
       "        vertical-align: middle;\n",
       "    }\n",
       "\n",
       "    .dataframe tbody tr th {\n",
       "        vertical-align: top;\n",
       "    }\n",
       "\n",
       "    .dataframe thead th {\n",
       "        text-align: right;\n",
       "    }\n",
       "</style>\n",
       "<table border=\"1\" class=\"dataframe\">\n",
       "  <thead>\n",
       "    <tr style=\"text-align: right;\">\n",
       "      <th></th>\n",
       "      <th>text</th>\n",
       "      <th>polarity</th>\n",
       "    </tr>\n",
       "  </thead>\n",
       "  <tbody>\n",
       "    <tr>\n",
       "      <th>0</th>\n",
       "      <td>Hi, Iam 34years old &amp; my sonography says Solid...</td>\n",
       "      <td>NEUTRAL</td>\n",
       "    </tr>\n",
       "    <tr>\n",
       "      <th>1</th>\n",
       "      <td>what does it means ?</td>\n",
       "      <td>NEUTRAL</td>\n",
       "    </tr>\n",
       "    <tr>\n",
       "      <th>2</th>\n",
       "      <td>doctor advised to go for FNAC for further eval...</td>\n",
       "      <td>NEGATIVE</td>\n",
       "    </tr>\n",
       "    <tr>\n",
       "      <th>3</th>\n",
       "      <td>is anything serious please tell me i'am very m...</td>\n",
       "      <td>NEGATIVE</td>\n",
       "    </tr>\n",
       "    <tr>\n",
       "      <th>4</th>\n",
       "      <td>thanks.</td>\n",
       "      <td>NOT_LABELED</td>\n",
       "    </tr>\n",
       "    <tr>\n",
       "      <th>...</th>\n",
       "      <td>...</td>\n",
       "      <td>...</td>\n",
       "    </tr>\n",
       "    <tr>\n",
       "      <th>3630</th>\n",
       "      <td>Take vitamins.</td>\n",
       "      <td>NEUTRAL</td>\n",
       "    </tr>\n",
       "    <tr>\n",
       "      <th>3631</th>\n",
       "      <td>It was only a matter of time and not your medi...</td>\n",
       "      <td>NEUTRAL</td>\n",
       "    </tr>\n",
       "    <tr>\n",
       "      <th>3632</th>\n",
       "      <td>Has anyone experienced hair loss with using 6m...</td>\n",
       "      <td>NEUTRAL</td>\n",
       "    </tr>\n",
       "    <tr>\n",
       "      <th>3633</th>\n",
       "      <td>I've been on it for 2 months and noticed hair ...</td>\n",
       "      <td>NEGATIVE</td>\n",
       "    </tr>\n",
       "    <tr>\n",
       "      <th>3634</th>\n",
       "      <td>Does this ever stop?</td>\n",
       "      <td>NEUTRAL</td>\n",
       "    </tr>\n",
       "  </tbody>\n",
       "</table>\n",
       "<p>3635 rows × 2 columns</p>\n",
       "</div>"
      ],
      "text/plain": [
       "                                                   text     polarity\n",
       "0     Hi, Iam 34years old & my sonography says Solid...      NEUTRAL\n",
       "1                                  what does it means ?      NEUTRAL\n",
       "2     doctor advised to go for FNAC for further eval...     NEGATIVE\n",
       "3     is anything serious please tell me i'am very m...     NEGATIVE\n",
       "4                                               thanks.  NOT_LABELED\n",
       "...                                                 ...          ...\n",
       "3630                                     Take vitamins.      NEUTRAL\n",
       "3631  It was only a matter of time and not your medi...      NEUTRAL\n",
       "3632  Has anyone experienced hair loss with using 6m...      NEUTRAL\n",
       "3633  I've been on it for 2 months and noticed hair ...     NEGATIVE\n",
       "3634                               Does this ever stop?      NEUTRAL\n",
       "\n",
       "[3635 rows x 2 columns]"
      ]
     },
     "execution_count": 59,
     "metadata": {},
     "output_type": "execute_result"
    }
   ],
   "source": [
    "labels_path = \"mined_gold_standard/labels\"\n",
    "composite_dataframe = pd.DataFrame(columns = [\"text\", CATEGORY])\n",
    "\n",
    "for conversation in os.listdir(labels_path):\n",
    "    if CATEGORY in conversation:\n",
    "        local_dataframe = pd.read_csv(os.path.join(labels_path, conversation), delimiter = \"\\t\")\n",
    "        composite_dataframe = pd.concat([composite_dataframe, local_dataframe], ignore_index = True)\n",
    "\n",
    "composite_dataframe   "
   ]
  },
  {
   "cell_type": "code",
   "execution_count": 60,
   "id": "1d89a681",
   "metadata": {},
   "outputs": [
    {
     "data": {
      "image/png": "[encoded data removed]",
      "text/plain": [
       "<Figure size 640x480 with 1 Axes>"
      ]
     },
     "metadata": {},
     "output_type": "display_data"
    }
   ],
   "source": [
    "counts = composite_dataframe[CATEGORY].value_counts()\n",
    "\n",
    "fig, ax = plt.subplots()\n",
    "_ = ax.pie(list(counts.values), labels = \n",
    "           list(counts.index), autopct = \"%.2f\")"
   ]
  },
  {
   "cell_type": "code",
   "execution_count": 61,
   "id": "f81a89fe",
   "metadata": {},
   "outputs": [],
   "source": [
    "composite_dataframe = composite_dataframe[composite_dataframe[CATEGORY] != \"NOT_LABELED\"].reset_index(drop = True)\n",
    "\n",
    "composite_dataframe[CATEGORY] = composite_dataframe[CATEGORY].map({\"NEGATIVE\" : 0,\n",
    "                                                                   \"NEUTRAL\" : 1,\n",
    "                                                                   \"POSITIVE\" : 2})"
   ]
  },
  {
   "cell_type": "markdown",
   "id": "bc929fd2",
   "metadata": {},
   "source": [
    "### BERT (fine-tuning for sentiment analysis)"
   ]
  },
  {
   "cell_type": "code",
   "execution_count": 62,
   "id": "7812b86a",
   "metadata": {},
   "outputs": [
    {
     "data": {
      "image/png": "[encoded data removed]",
      "text/plain": [
       "<Figure size 640x480 with 1 Axes>"
      ]
     },
     "metadata": {},
     "output_type": "display_data"
    }
   ],
   "source": [
    "tokenizer = BertTokenizer.from_pretrained(MODEL_TAG)\n",
    "composite_lengths = composite_dataframe[\"text\"].apply(lambda s : len(tokenizer.encode(s, max_length = 512,\n",
    "                                                                                      truncation = True)))\n",
    "\n",
    "fig, ax = plt.subplots()\n",
    "_ = ax.hist(list(composite_lengths.values))\n",
    "_ = ax.set_xlabel(\"token count\")\n",
    "_ = ax.set_ylabel(\"occurrences\")"
   ]
  },
  {
   "cell_type": "code",
   "execution_count": 63,
   "id": "1b9097a2",
   "metadata": {},
   "outputs": [],
   "source": [
    "class GoldStandard(Dataset):\n",
    "    def __init__(self, sentences, targets, tokenizer, max_length):\n",
    "        self.sentences = sentences\n",
    "        self.targets = targets\n",
    "        self.tokenizer = tokenizer\n",
    "        self.max_length = max_length\n",
    "    \n",
    "    def __len__(self):\n",
    "        return len(self.sentences)\n",
    "    \n",
    "    def __getitem__(self, item):\n",
    "        sentence = self.sentences[item]\n",
    "        target = self.targets[item]\n",
    "        \n",
    "        encoding = self.tokenizer.encode_plus(\n",
    "            sentence, \n",
    "            add_special_tokens = True, \n",
    "            max_length = self.max_length,\n",
    "            return_token_type_ids = False,\n",
    "            padding = \"max_length\",\n",
    "            return_attention_mask = True,\n",
    "            return_tensors = \"pt\"\n",
    "        )\n",
    "        \n",
    "        return {\n",
    "            \"sentence_text\" : sentence,\n",
    "            \"input_ids\" : encoding[\"input_ids\"].flatten(),\n",
    "            \"attention_mask\" : encoding[\"attention_mask\"].flatten(),\n",
    "            \"targets\" : torch.tensor(target, dtype = torch.long)\n",
    "        }"
   ]
  },
  {
   "cell_type": "code",
   "execution_count": 64,
   "id": "ce85e1fe",
   "metadata": {},
   "outputs": [],
   "source": [
    "class SentimentAnalyzer(nn.Module):\n",
    "    def __init__(self, num_classes):\n",
    "        super(SentimentAnalyzer, self).__init__()\n",
    "        self.model = BertModel.from_pretrained(MODEL_TAG)\n",
    "        self.drop = nn.Dropout(p = 0.3)\n",
    "        self.out = nn.Linear(self.model.config.hidden_size, num_classes)\n",
    "    \n",
    "    def forward(self, input_ids, attention_mask):\n",
    "        _, pooled_output = self.model(\n",
    "            input_ids = input_ids,\n",
    "            attention_mask = attention_mask,\n",
    "            return_dict = False\n",
    "        )\n",
    "        \n",
    "        output = self.drop(pooled_output)\n",
    "        return self.out(output)"
   ]
  },
  {
   "cell_type": "code",
   "execution_count": 65,
   "id": "a162923b",
   "metadata": {},
   "outputs": [],
   "source": [
    "def data_loader(dataset, tokenizer, max_length, batch_size):\n",
    "    wrapper = GoldStandard(\n",
    "        sentences = dataset[\"text\"].to_numpy(),\n",
    "        targets = dataset[CATEGORY].to_numpy(),\n",
    "        tokenizer = tokenizer,\n",
    "        max_length = max_length\n",
    "    )\n",
    "    \n",
    "    return DataLoader(\n",
    "        wrapper,\n",
    "        batch_size = batch_size,\n",
    "        num_workers = 0\n",
    "    )"
   ]
  },
  {
   "cell_type": "code",
   "execution_count": 66,
   "id": "ca58e8ef",
   "metadata": {},
   "outputs": [],
   "source": [
    "def train_epoch(model, data_loader, loss_function,\n",
    "                optimizer, device, scheduler, num_samples):\n",
    "    model = model.train()\n",
    "    \n",
    "    correct_predictions = 0\n",
    "    losses = []\n",
    "    \n",
    "    for data in data_loader:\n",
    "        input_ids = data[\"input_ids\"].to(device)\n",
    "        attention_mask = data[\"attention_mask\"].to(device)\n",
    "        targets = data[\"targets\"].to(device)\n",
    "\n",
    "        outputs = model(\n",
    "            input_ids = input_ids,\n",
    "            attention_mask = attention_mask\n",
    "        )\n",
    "\n",
    "        _, predictions = torch.max(outputs, dim = 1)\n",
    "        correct_predictions += torch.sum(predictions == targets)\n",
    "\n",
    "        loss = loss_function(outputs, targets)\n",
    "        losses.append(loss.item())\n",
    "\n",
    "        loss.backward()\n",
    "\n",
    "        nn.utils.clip_grad_norm_(model.parameters(), max_norm = 1.0)\n",
    "\n",
    "        optimizer.step()\n",
    "        scheduler.step()\n",
    "        optimizer.zero_grad()\n",
    "\n",
    "    return correct_predictions.double() / num_samples, np.mean(losses)\n",
    "\n",
    "def evaluate_model(model, data_loader, loss_function, device, num_samples):\n",
    "    model = model.eval()\n",
    "    \n",
    "    correct_predictions = 0\n",
    "    losses = []\n",
    "    \n",
    "    with torch.no_grad():\n",
    "        for data in data_loader:\n",
    "            input_ids = data[\"input_ids\"].to(device)\n",
    "            attention_mask = data[\"attention_mask\"].to(device)\n",
    "            targets = data[\"targets\"].to(device)\n",
    "\n",
    "            outputs = model(\n",
    "                input_ids = input_ids,\n",
    "                attention_mask = attention_mask\n",
    "            )\n",
    "            \n",
    "            _, predictions = torch.max(outputs, dim = 1)\n",
    "            correct_predictions += torch.sum(predictions == targets)\n",
    "    \n",
    "            loss = loss_function(outputs, targets)\n",
    "            losses.append(loss.item())\n",
    "    \n",
    "    return correct_predictions.double() / num_samples, np.mean(losses)"
   ]
  },
  {
   "cell_type": "code",
   "execution_count": 67,
   "id": "5b5b06f2",
   "metadata": {},
   "outputs": [
    {
     "data": {
      "text/plain": [
       "((2585, 2), (172, 2), (690, 2))"
      ]
     },
     "execution_count": 67,
     "metadata": {},
     "output_type": "execute_result"
    }
   ],
   "source": [
    "train, test = train_test_split(composite_dataframe, test_size = 0.25, random_state = 0)\n",
    "validation, test = train_test_split(test, test_size = 0.8, random_state = 0)\n",
    "\n",
    "(train.shape, validation.shape, test.shape)"
   ]
  },
  {
   "cell_type": "code",
   "execution_count": 68,
   "id": "c2aa2408",
   "metadata": {},
   "outputs": [],
   "source": [
    "train_data_loader = data_loader(train, tokenizer, MAX_LENGTH, BATCH_SIZE)\n",
    "validation_data_loader = data_loader(validation, tokenizer, MAX_LENGTH, BATCH_SIZE)\n",
    "test_data_loader = data_loader(test, tokenizer, MAX_LENGTH, BATCH_SIZE)"
   ]
  },
  {
   "cell_type": "code",
   "execution_count": 69,
   "id": "0a254b0e",
   "metadata": {},
   "outputs": [
    {
     "name": "stderr",
     "output_type": "stream",
     "text": [
      "Some weights of the model checkpoint at bert-base-uncased were not used when initializing BertModel: ['cls.seq_relationship.weight', 'cls.predictions.transform.LayerNorm.bias', 'cls.predictions.transform.LayerNorm.weight', 'cls.predictions.bias', 'cls.seq_relationship.bias', 'cls.predictions.transform.dense.weight', 'cls.predictions.decoder.weight', 'cls.predictions.transform.dense.bias']\n",
      "- This IS expected if you are initializing BertModel from the checkpoint of a model trained on another task or with another architecture (e.g. initializing a BertForSequenceClassification model from a BertForPreTraining model).\n",
      "- This IS NOT expected if you are initializing BertModel from the checkpoint of a model that you expect to be exactly identical (initializing a BertForSequenceClassification model from a BertForSequenceClassification model).\n"
     ]
    }
   ],
   "source": [
    "device = torch.device(\"cuda\" if torch.cuda.is_available() else\n",
    "                      \"mps\" if torch.backends.mps.is_available() else \"cpu\")\n",
    "\n",
    "model = SentimentAnalyzer(len(pd.unique(composite_dataframe[CATEGORY]))).to(device)\n",
    "\n",
    "optimizer = torch.optim.AdamW(model.parameters(), lr = 2e-5)\n",
    "scheduler = get_linear_schedule_with_warmup(\n",
    "    optimizer,\n",
    "    num_warmup_steps = 0,\n",
    "    num_training_steps = EPOCHS * len(train_data_loader)\n",
    ")\n",
    "\n",
    "loss_function = nn.CrossEntropyLoss().to(device)"
   ]
  },
  {
   "cell_type": "code",
   "execution_count": 70,
   "id": "9713ec3e",
   "metadata": {},
   "outputs": [
    {
     "name": "stdout",
     "output_type": "stream",
     "text": [
      "Epoch: 1 / 5\n"
     ]
    },
    {
     "ename": "TypeError",
     "evalue": "Cannot convert a MPS Tensor to float64 dtype as the MPS framework doesn't support float64. Please use float32 instead.",
     "output_type": "error",
     "traceback": [
      "\u001b[0;31m---------------------------------------------------------------------------\u001b[0m",
      "\u001b[0;31mTypeError\u001b[0m                                 Traceback (most recent call last)",
      "Cell \u001b[0;32mIn[70], line 11\u001b[0m\n\u001b[1;32m      8\u001b[0m \u001b[38;5;28;01mfor\u001b[39;00m epoch \u001b[38;5;129;01min\u001b[39;00m \u001b[38;5;28mrange\u001b[39m(EPOCHS):\n\u001b[1;32m      9\u001b[0m     \u001b[38;5;28mprint\u001b[39m(\u001b[38;5;124m\"\u001b[39m\u001b[38;5;124mEpoch: \u001b[39m\u001b[38;5;132;01m{}\u001b[39;00m\u001b[38;5;124m / \u001b[39m\u001b[38;5;132;01m{}\u001b[39;00m\u001b[38;5;124m\"\u001b[39m\u001b[38;5;241m.\u001b[39mformat(epoch \u001b[38;5;241m+\u001b[39m \u001b[38;5;241m1\u001b[39m, EPOCHS))\n\u001b[0;32m---> 11\u001b[0m     training_accuracy, training_loss \u001b[38;5;241m=\u001b[39m \u001b[43mtrain_epoch\u001b[49m\u001b[43m(\u001b[49m\n\u001b[1;32m     12\u001b[0m \u001b[43m        \u001b[49m\u001b[43mmodel\u001b[49m\u001b[43m,\u001b[49m\n\u001b[1;32m     13\u001b[0m \u001b[43m        \u001b[49m\u001b[43mtrain_data_loader\u001b[49m\u001b[43m,\u001b[49m\n\u001b[1;32m     14\u001b[0m \u001b[43m        \u001b[49m\u001b[43mloss_function\u001b[49m\u001b[43m,\u001b[49m\n\u001b[1;32m     15\u001b[0m \u001b[43m        \u001b[49m\u001b[43moptimizer\u001b[49m\u001b[43m,\u001b[49m\n\u001b[1;32m     16\u001b[0m \u001b[43m        \u001b[49m\u001b[43mdevice\u001b[49m\u001b[43m,\u001b[49m\n\u001b[1;32m     17\u001b[0m \u001b[43m        \u001b[49m\u001b[43mscheduler\u001b[49m\u001b[43m,\u001b[49m\n\u001b[1;32m     18\u001b[0m \u001b[43m        \u001b[49m\u001b[43mtrain\u001b[49m\u001b[38;5;241;43m.\u001b[39;49m\u001b[43mshape\u001b[49m\u001b[43m[\u001b[49m\u001b[38;5;241;43m0\u001b[39;49m\u001b[43m]\u001b[49m\n\u001b[1;32m     19\u001b[0m \u001b[43m    \u001b[49m\u001b[43m)\u001b[49m\n\u001b[1;32m     21\u001b[0m     \u001b[38;5;28mprint\u001b[39m(\u001b[38;5;124m\"\u001b[39m\u001b[38;5;124mTraining loss: \u001b[39m\u001b[38;5;132;01m{}\u001b[39;00m\u001b[38;5;124m\"\u001b[39m\u001b[38;5;241m.\u001b[39mformat(training_loss), end \u001b[38;5;241m=\u001b[39m \u001b[38;5;124m\"\u001b[39m\u001b[38;5;124m | \u001b[39m\u001b[38;5;124m\"\u001b[39m)\n\u001b[1;32m     22\u001b[0m     \u001b[38;5;28mprint\u001b[39m(\u001b[38;5;124m\"\u001b[39m\u001b[38;5;124mTraining accuracy: \u001b[39m\u001b[38;5;132;01m{}\u001b[39;00m\u001b[38;5;124m\"\u001b[39m\u001b[38;5;241m.\u001b[39mformat(training_accuracy))\n",
      "Cell \u001b[0;32mIn[66], line 32\u001b[0m, in \u001b[0;36mtrain_epoch\u001b[0;34m(model, data_loader, loss_function, optimizer, device, scheduler, num_samples)\u001b[0m\n\u001b[1;32m     29\u001b[0m     scheduler\u001b[38;5;241m.\u001b[39mstep()\n\u001b[1;32m     30\u001b[0m     optimizer\u001b[38;5;241m.\u001b[39mzero_grad()\n\u001b[0;32m---> 32\u001b[0m \u001b[38;5;28;01mreturn\u001b[39;00m \u001b[43mcorrect_predictions\u001b[49m\u001b[38;5;241;43m.\u001b[39;49m\u001b[43mdouble\u001b[49m\u001b[43m(\u001b[49m\u001b[43m)\u001b[49m \u001b[38;5;241m/\u001b[39m num_samples, np\u001b[38;5;241m.\u001b[39mmean(losses)\n",
      "\u001b[0;31mTypeError\u001b[0m: Cannot convert a MPS Tensor to float64 dtype as the MPS framework doesn't support float64. Please use float32 instead."
     ]
    }
   ],
   "source": [
    "history = {\"training_accuracy\" : [],\n",
    "           \"training_loss\" : [],\n",
    "           \"validation_accuracy\" : [],\n",
    "           \"validation_loss\" : []}\n",
    "\n",
    "highest_accuracy = 0.0\n",
    "\n",
    "for epoch in range(EPOCHS):\n",
    "    print(\"Epoch: {} / {}\".format(epoch + 1, EPOCHS))\n",
    "    \n",
    "    training_accuracy, training_loss = train_epoch(\n",
    "        model,\n",
    "        train_data_loader,\n",
    "        loss_function,\n",
    "        optimizer,\n",
    "        device,\n",
    "        scheduler,\n",
    "        train.shape[0]\n",
    "    )\n",
    "    \n",
    "    print(\"Training loss: {}\".format(training_loss), end = \" | \")\n",
    "    print(\"Training accuracy: {}\".format(training_accuracy))\n",
    "    \n",
    "    validation_accuracy, validation_loss = evaluate_model(\n",
    "        model,\n",
    "        validation_data_loader,\n",
    "        loss_function,\n",
    "        device,\n",
    "        validation.shape[0]\n",
    "    )\n",
    "    \n",
    "    print(\"Validation loss: {}\".format(validation_loss), end = \" | \")\n",
    "    print(\"Validation accuracy: {}\".format(validation_accuracy))\n",
    "    \n",
    "    history[\"training_accuracy\"].append(training_accuracy)\n",
    "    history[\"training_loss\"].append(training_loss)\n",
    "    history[\"validation_accuracy\"].append(validation_accuracy)\n",
    "    history[\"validation_loss\"].append(validation_loss)\n",
    "    \n",
    "    if validation_accuracy > highest_accuracy:\n",
    "        torch.save(model.state_dict(), \"eDiseases.pt\")\n",
    "        highest_accuracy = validation_accuracy"
   ]
  }
 ],
 "metadata": {
  "kernelspec": {
   "display_name": "Python 3 (ipykernel)",
   "language": "python",
   "name": "python3"
  },
  "language_info": {
   "codemirror_mode": {
    "name": "ipython",
    "version": 3
   },
   "file_extension": ".py",
   "mimetype": "text/x-python",
   "name": "python",
   "nbconvert_exporter": "python",
   "pygments_lexer": "ipython3",
   "version": "3.9.4"
  }
 },
 "nbformat": 4,
 "nbformat_minor": 5
}
