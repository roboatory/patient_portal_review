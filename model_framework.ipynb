{
 "cells": [
  {
   "cell_type": "code",
   "execution_count": 27,
   "id": "222791c0",
   "metadata": {},
   "outputs": [],
   "source": [
    "import matplotlib.pyplot as plt\n",
    "import os\n",
    "import pandas as pd\n",
    "from sklearn.model_selection import train_test_split\n",
    "import torch\n",
    "from torch import nn\n",
    "from torch.utils.data import DataLoader, Dataset \n",
    "from transformers import AdamW, BertModel, BertTokenizer"
   ]
  },
  {
   "cell_type": "code",
   "execution_count": 25,
   "id": "7c77a96a",
   "metadata": {},
   "outputs": [],
   "source": [
    "BATCH_SIZE = 16\n",
    "CATEGORY = \"polarity\"\n",
    "EPOCHS = 5\n",
    "MAX_LENGTH = 125\n",
    "MODEL_TAG = \"bert-base-uncased\""
   ]
  },
  {
   "cell_type": "markdown",
   "id": "4c2480a1",
   "metadata": {},
   "source": [
    "### Exploratory data analysis"
   ]
  },
  {
   "cell_type": "code",
   "execution_count": 3,
   "id": "8447d72b",
   "metadata": {},
   "outputs": [
    {
     "data": {
      "text/html": [
       "<div>\n",
       "<style scoped>\n",
       "    .dataframe tbody tr th:only-of-type {\n",
       "        vertical-align: middle;\n",
       "    }\n",
       "\n",
       "    .dataframe tbody tr th {\n",
       "        vertical-align: top;\n",
       "    }\n",
       "\n",
       "    .dataframe thead th {\n",
       "        text-align: right;\n",
       "    }\n",
       "</style>\n",
       "<table border=\"1\" class=\"dataframe\">\n",
       "  <thead>\n",
       "    <tr style=\"text-align: right;\">\n",
       "      <th></th>\n",
       "      <th>text</th>\n",
       "      <th>polarity</th>\n",
       "    </tr>\n",
       "  </thead>\n",
       "  <tbody>\n",
       "    <tr>\n",
       "      <th>0</th>\n",
       "      <td>Hi, Iam 34years old &amp; my sonography says Solid...</td>\n",
       "      <td>NEUTRAL</td>\n",
       "    </tr>\n",
       "    <tr>\n",
       "      <th>1</th>\n",
       "      <td>what does it means ?</td>\n",
       "      <td>NEUTRAL</td>\n",
       "    </tr>\n",
       "    <tr>\n",
       "      <th>2</th>\n",
       "      <td>doctor advised to go for FNAC for further eval...</td>\n",
       "      <td>NEGATIVE</td>\n",
       "    </tr>\n",
       "    <tr>\n",
       "      <th>3</th>\n",
       "      <td>is anything serious please tell me i'am very m...</td>\n",
       "      <td>NEGATIVE</td>\n",
       "    </tr>\n",
       "    <tr>\n",
       "      <th>4</th>\n",
       "      <td>thanks.</td>\n",
       "      <td>NOT_LABELED</td>\n",
       "    </tr>\n",
       "    <tr>\n",
       "      <th>...</th>\n",
       "      <td>...</td>\n",
       "      <td>...</td>\n",
       "    </tr>\n",
       "    <tr>\n",
       "      <th>3630</th>\n",
       "      <td>Take vitamins.</td>\n",
       "      <td>NEUTRAL</td>\n",
       "    </tr>\n",
       "    <tr>\n",
       "      <th>3631</th>\n",
       "      <td>It was only a matter of time and not your medi...</td>\n",
       "      <td>NEUTRAL</td>\n",
       "    </tr>\n",
       "    <tr>\n",
       "      <th>3632</th>\n",
       "      <td>Has anyone experienced hair loss with using 6m...</td>\n",
       "      <td>NEUTRAL</td>\n",
       "    </tr>\n",
       "    <tr>\n",
       "      <th>3633</th>\n",
       "      <td>I've been on it for 2 months and noticed hair ...</td>\n",
       "      <td>NEGATIVE</td>\n",
       "    </tr>\n",
       "    <tr>\n",
       "      <th>3634</th>\n",
       "      <td>Does this ever stop?</td>\n",
       "      <td>NEUTRAL</td>\n",
       "    </tr>\n",
       "  </tbody>\n",
       "</table>\n",
       "<p>3635 rows × 2 columns</p>\n",
       "</div>"
      ],
      "text/plain": [
       "                                                   text     polarity\n",
       "0     Hi, Iam 34years old & my sonography says Solid...      NEUTRAL\n",
       "1                                  what does it means ?      NEUTRAL\n",
       "2     doctor advised to go for FNAC for further eval...     NEGATIVE\n",
       "3     is anything serious please tell me i'am very m...     NEGATIVE\n",
       "4                                               thanks.  NOT_LABELED\n",
       "...                                                 ...          ...\n",
       "3630                                     Take vitamins.      NEUTRAL\n",
       "3631  It was only a matter of time and not your medi...      NEUTRAL\n",
       "3632  Has anyone experienced hair loss with using 6m...      NEUTRAL\n",
       "3633  I've been on it for 2 months and noticed hair ...     NEGATIVE\n",
       "3634                               Does this ever stop?      NEUTRAL\n",
       "\n",
       "[3635 rows x 2 columns]"
      ]
     },
     "execution_count": 3,
     "metadata": {},
     "output_type": "execute_result"
    }
   ],
   "source": [
    "labels_path = \"mined_gold_standard/labels\"\n",
    "composite_dataframe = pd.DataFrame(columns = [\"text\", CATEGORY])\n",
    "\n",
    "for conversation in os.listdir(labels_path):\n",
    "    if CATEGORY in conversation:\n",
    "        local_dataframe = pd.read_csv(os.path.join(labels_path, conversation), delimiter = \"\\t\")\n",
    "        composite_dataframe = pd.concat([composite_dataframe, local_dataframe], ignore_index = True)\n",
    "\n",
    "composite_dataframe   "
   ]
  },
  {
   "cell_type": "code",
   "execution_count": 4,
   "id": "0610253e",
   "metadata": {},
   "outputs": [
    {
     "data": {
      "image/png": "[encoded data removed]",
      "text/plain": [
       "<Figure size 640x480 with 1 Axes>"
      ]
     },
     "metadata": {},
     "output_type": "display_data"
    }
   ],
   "source": [
    "counts = composite_dataframe[CATEGORY].value_counts()\n",
    "\n",
    "fig, ax = plt.subplots()\n",
    "_ = ax.pie(list(counts.values), labels = \n",
    "           list(counts.index), autopct = \"%.2f\")"
   ]
  },
  {
   "cell_type": "code",
   "execution_count": 5,
   "id": "56e83ae3",
   "metadata": {},
   "outputs": [],
   "source": [
    "composite_dataframe[CATEGORY] = composite_dataframe[CATEGORY].map({\"NOT_LABELED\" : 0,\n",
    "                                                                   \"NEGATIVE\" : 1,\n",
    "                                                                   \"NEUTRAL\" : 2,\n",
    "                                                                   \"POSITIVE\" : 3})"
   ]
  },
  {
   "cell_type": "markdown",
   "id": "052f1a6a",
   "metadata": {},
   "source": [
    "### BERT (for sentiment analysis)"
   ]
  },
  {
   "cell_type": "code",
   "execution_count": 6,
   "id": "9c7726c5",
   "metadata": {},
   "outputs": [
    {
     "data": {
      "image/png": "[encoded data removed]",
      "text/plain": [
       "<Figure size 640x480 with 1 Axes>"
      ]
     },
     "metadata": {},
     "output_type": "display_data"
    }
   ],
   "source": [
    "tokenizer = BertTokenizer.from_pretrained(MODEL_TAG)\n",
    "composite_lengths = composite_dataframe[\"text\"].apply(lambda s : len(tokenizer.encode(s, max_length = 512,\n",
    "                                                                                      truncation = True)))\n",
    "\n",
    "fig, ax = plt.subplots()\n",
    "_ = ax.hist(list(composite_lengths.values))\n",
    "_ = ax.set_xlabel(\"token count\")\n",
    "_ = ax.set_ylabel(\"occurrences\")"
   ]
  },
  {
   "cell_type": "code",
   "execution_count": 19,
   "id": "d83662e6",
   "metadata": {},
   "outputs": [],
   "source": [
    "class GoldStandard(Dataset):\n",
    "    def __init__(self, sentences, targets, tokenizer, max_length):\n",
    "        self.sentences = sentences\n",
    "        self.targets = targets\n",
    "        self.tokenizer = tokenizer\n",
    "        self.max_length = max_length\n",
    "    \n",
    "    def __len__(self):\n",
    "        return len(self.sentences)\n",
    "    \n",
    "    def __getitem__(self, item):\n",
    "        sentence = self.sentences[item]\n",
    "        target = self.targets[item]\n",
    "        \n",
    "        encoding = self.tokenizer.encode_plus(\n",
    "            sentence, \n",
    "            add_special_tokens = True, \n",
    "            max_length = self.max_length,\n",
    "            return_token_type_ids = False,\n",
    "            padding = \"max_length\",\n",
    "            return_attention_mask = True,\n",
    "            return_tensors = \"pt\"\n",
    "        )\n",
    "        \n",
    "        return {\n",
    "            \"sentence_text\" : sentence,\n",
    "            \"input_ids\" : encoding[\"input_ids\"].flatten(),\n",
    "            \"attention_mask\" : encoding[\"attention_mask\"].flatten(),\n",
    "            \"targets\" : torch.tensor(target, dtype = torch.long)\n",
    "        }"
   ]
  },
  {
   "cell_type": "code",
   "execution_count": null,
   "id": "0310cd0d",
   "metadata": {},
   "outputs": [],
   "source": [
    "class SentimentAnalyzer(nn.Module):\n",
    "    def __init__(self, num_classes):\n",
    "        super(SentimentAnalyzer, self).__init__()\n",
    "        self.model = BertModel.from_pretrained(MODEL_TAG)\n",
    "        self.drop = nn.Dropout(p = 0.3)\n",
    "        self.out = nn.Linear(self.model.config.hidden_size, num_classes)\n",
    "    \n",
    "    def forward(self, input_ids, attention_mask):\n",
    "        _, pooled_output = self.model(\n",
    "            input_ids = input_ids,\n",
    "            attention_mask = attention_mask\n",
    "        )\n",
    "        \n",
    "        output = self.drop(pooled_output)\n",
    "        return self.out(output)"
   ]
  },
  {
   "cell_type": "code",
   "execution_count": null,
   "id": "df3f32cf",
   "metadata": {},
   "outputs": [],
   "source": [
    "def data_loader(dataset, tokenizer, max_length, batch_size):\n",
    "    wrapper = GoldStandard(\n",
    "        sentences = dataset[\"text\"].to_numpy(),\n",
    "        targets = dataset[CATEGORY].to_numpy(),\n",
    "        tokenizer = tokenizer,\n",
    "        max_length = max_length\n",
    "    )\n",
    "    \n",
    "    return DataLoader(\n",
    "        wrapper,\n",
    "        batch_size = batch_size,\n",
    "        num_workers = 0\n",
    "    )"
   ]
  },
  {
   "cell_type": "code",
   "execution_count": 8,
   "id": "b3eb0695",
   "metadata": {},
   "outputs": [
    {
     "data": {
      "text/plain": [
       "((2908, 2), (363, 2), (364, 2))"
      ]
     },
     "execution_count": 8,
     "metadata": {},
     "output_type": "execute_result"
    }
   ],
   "source": [
    "train, test = train_test_split(composite_dataframe, test_size = 0.2, random_state = 0)\n",
    "validation, test = train_test_split(test, test_size = 0.5, random_state = 0)\n",
    "\n",
    "(train.shape, validation.shape, test.shape)"
   ]
  },
  {
   "cell_type": "code",
   "execution_count": 9,
   "id": "185ec698",
   "metadata": {},
   "outputs": [],
   "source": [
    "train_data_loader = data_loader(train, tokenizer, MAX_LENGTH, BATCH_SIZE)\n",
    "validation_data_loader = data_loader(validation, tokenizer, MAX_LENGTH, BATCH_SIZE)\n",
    "test_data_loader = data_loader(test, tokenizer, MAX_LENGTH, BATCH_SIZE)"
   ]
  },
  {
   "cell_type": "code",
   "execution_count": 26,
   "id": "416c43ed",
   "metadata": {},
   "outputs": [
    {
     "name": "stderr",
     "output_type": "stream",
     "text": [
      "Some weights of the model checkpoint at bert-base-uncased were not used when initializing BertModel: ['cls.predictions.transform.LayerNorm.weight', 'cls.predictions.transform.LayerNorm.bias', 'cls.predictions.decoder.weight', 'cls.predictions.transform.dense.weight', 'cls.predictions.transform.dense.bias', 'cls.seq_relationship.bias', 'cls.seq_relationship.weight', 'cls.predictions.bias']\n",
      "- This IS expected if you are initializing BertModel from the checkpoint of a model trained on another task or with another architecture (e.g. initializing a BertForSequenceClassification model from a BertForPreTraining model).\n",
      "- This IS NOT expected if you are initializing BertModel from the checkpoint of a model that you expect to be exactly identical (initializing a BertForSequenceClassification model from a BertForSequenceClassification model).\n"
     ]
    },
    {
     "data": {
      "text/plain": [
       "<generator object Module.parameters at 0x164611f20>"
      ]
     },
     "execution_count": 26,
     "metadata": {},
     "output_type": "execute_result"
    }
   ],
   "source": [
    "model = SentimentAnalyzer(len(pd.unique(composite_dataframe[CATEGORY]))).to(torch.device(\"mps\"))\n",
    "\n",
    "optimizer = AdamW(model.parameters(), lr = 2e-5, correct_bias = False)\n",
    "scheduler = get_linear_schedule_with_warmup(\n",
    "    optimizer,\n",
    "    num_warmup_steps = 0,\n",
    "    num_training_steps = EPOCHS * len(train_data_loader)\n",
    ")"
   ]
  },
  {
   "cell_type": "code",
   "execution_count": null,
   "id": "89388804",
   "metadata": {},
   "outputs": [],
   "source": []
  }
 ],
 "metadata": {
  "kernelspec": {
   "display_name": "Python 3 (ipykernel)",
   "language": "python",
   "name": "python3"
  },
  "language_info": {
   "codemirror_mode": {
    "name": "ipython",
    "version": 3
   },
   "file_extension": ".py",
   "mimetype": "text/x-python",
   "name": "python",
   "nbconvert_exporter": "python",
   "pygments_lexer": "ipython3",
   "version": "3.9.4"
  }
 },
 "nbformat": 4,
 "nbformat_minor": 5
}
